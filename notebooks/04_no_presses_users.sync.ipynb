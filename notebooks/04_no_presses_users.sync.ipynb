{
 "cells": [
  {
   "cell_type": "code",
   "execution_count": null,
   "id": "2021fa32",
   "metadata": {},
   "outputs": [],
   "source": [
    "# from google.colab import drive\n",
    "# drive.mount('/content/gdrive', force_remount=True)\n",
    "%cd gdrive/MyDrive/Masters_Project\n",
    "%pip install -e peratouch"
   ]
  },
  {
   "cell_type": "code",
   "execution_count": null,
   "id": "b94fd9dc",
   "metadata": {},
   "outputs": [],
   "source": [
    "from peratouch.data import load_data\n",
    "from peratouch.routines import run_network\n",
    "from peratouch.config import path_five_users_main, path_five_users_first\n",
    "from datetime import date\n",
    "from peratouch.networks import CNN\n",
    "import numpy as np\n",
    "import sklearn\n",
    "\n",
    "def run_n_presses_users(X, y, n_press):\n",
    "  return run_network(CNN, X, y, n_ch=n_press, n_epochs=100, n_folds=5, n_runs=5, plots=False, n_batches=15, random_resampling=False)"
   ]
  },
  {
   "cell_type": "code",
   "execution_count": null,
   "id": "990f849f",
   "metadata": {},
   "outputs": [],
   "source": [
    "from peratouch.config import path_analysis_results\n",
    "import itertools\n",
    "\n",
    "number_presses = [1, 3, 5, 10, 20]\n",
    "number_users = range(3, 6)\n",
    "\n",
    "results_dict = {}\n",
    "\n",
    "Xraw, yraw = load_data(path_five_users_main)\n",
    "\n",
    "for n_users in number_users:     # Number of possible users: 2, 3, 4, 5\n",
    "\n",
    "    user_combinations = itertools.combinations(range(5), n_users)      # From 5 users choose n_users\n",
    "\n",
    "    for users in user_combinations:\n",
    "        print(\"\\n\\nRunning combination of users \", users)\n",
    "\n",
    "        # Choose one given combination of users\n",
    "        X = np.concatenate([Xraw[yraw==u] for u in users])\n",
    "        y = np.concatenate([yraw[yraw==u] for u in users])\n",
    "\n",
    "        # Change labels to be fit increasing range ie. 0, 1, 2, ....\n",
    "        for i, u in enumerate(users):\n",
    "            y[y==u] = i\n",
    "\n",
    "        for n_press in number_presses:\n",
    "\n",
    "            results_dict[f'{users}_{n_press}'] = run_n_presses_users(X, y, n_press)\n",
    "\n",
    "            np.savez(str(path_analysis_results / f\"no_presses_users_{date.today()}.npz\"), **results_dict)"
   ]
  },
  {
   "cell_type": "code",
   "execution_count": null,
   "id": "cebb00e1",
   "metadata": {},
   "outputs": [],
   "source": [
    "stored_results = np.load(str(path_analysis_results / f\"no_presses_users_{date.today()}.npz\"))\n",
    "\n",
    "for key in stored_results:\n",
    "    print(key, \":\\n\", sklearn.metrics.classification_report(*results_dict[key]))"
   ]
  }
 ],
 "metadata": {
  "kernelspec": {
   "display_name": "Python 3 (ipykernel)",
   "language": "python",
   "name": "python3"
  },
  "language_info": {
   "codemirror_mode": {
    "name": "ipython",
    "version": 3
   },
   "file_extension": ".py",
   "mimetype": "text/x-python",
   "name": "python",
   "nbconvert_exporter": "python",
   "pygments_lexer": "ipython3",
   "version": "3.10.6"
  }
 },
 "nbformat": 4,
 "nbformat_minor": 5
}
