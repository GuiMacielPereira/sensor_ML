{
 "cells": [
  {
   "cell_type": "code",
   "execution_count": null,
   "id": "24aa2286",
   "metadata": {},
   "outputs": [],
   "source": [
    "# Uncomment if running from Google Colab\n",
    "# from google.colab import drive\n",
    "# drive.mount('/content/gdrive', force_remount=True)\n",
    "%cd gdrive/MyDrive/Masters_Project\n",
    "%pip install -e peratouch"
   ]
  },
  {
   "cell_type": "code",
   "execution_count": 1,
   "id": "cc0627a1",
   "metadata": {},
   "outputs": [],
   "source": [
    "from peratouch.routines import run_network\n",
    "from peratouch.data import load_data\n",
    "from peratouch.config import path_five_users_main, path_five_users_first"
   ]
  },
  {
   "cell_type": "code",
   "execution_count": 3,
   "id": "372e7ee9",
   "metadata": {},
   "outputs": [
    {
     "name": "stdout",
     "output_type": "stream",
     "text": [
      "\n",
      "\n",
      "-- New Fold --\n",
      "Train, test and validation arrays normalized to:\n",
      "[1.], [0.9994], [0.9998]\n",
      "Using Device:  cpu , dtype:  torch.float32\n",
      "\n",
      "Raw data shape:  (106425, 1, 32) \n",
      "Labels shape:  (106425,) \n",
      "Shape of test set: (10643, 1, 32) \n",
      "Shape of train set: (91375, 1, 32) \n",
      "Shape of validation set: (14368, 1, 32) \n",
      "Unique labels:  [0 1 2 3 4] \n",
      "Fraction of test labels:  [0.23, 0.18, 0.22, 0.2, 0.17] \n",
      "Fraction of validation labels:  [0.23, 0.18, 0.21, 0.21, 0.17] \n",
      "Fraction of train labels:  [0.2, 0.2, 0.2, 0.2, 0.2] \n",
      "dtype of inputs:  torch.float32\n",
      "\n",
      " Start of training model:\n",
      "\n",
      "End of epoch 1: loss_tr=1.037, loss_val=1.051, train=59.9%, val=59.3%\n",
      "End of epoch 11: loss_tr=0.873, loss_val=0.904, train=65.9%, val=64.9%\n",
      "End of epoch 21: loss_tr=0.845, loss_val=0.883, train=66.8%, val=64.9%\n",
      "End of epoch 31: loss_tr=0.827, loss_val=0.846, train=68.2%, val=67.8%\n",
      "End of epoch 41: loss_tr=0.808, loss_val=0.836, train=68.7%, val=67.4%\n",
      "End of epoch 51: loss_tr=0.823, loss_val=0.844, train=67.8%, val=66.8%\n",
      "End of epoch 61: loss_tr=0.793, loss_val=0.818, train=69.6%, val=68.7%\n",
      "End of epoch 71: loss_tr=0.861, loss_val=0.874, train=66.4%, val=65.8%\n",
      "End of epoch 81: loss_tr=0.804, loss_val=0.827, train=68.9%, val=67.9%\n",
      "End of epoch 91: loss_tr=0.786, loss_val=0.807, train=69.4%, val=69.1%\n",
      "\n",
      "Training Complete!\n",
      "Loading best weights for lowest validation loss=0.791 ...\n",
      "\n",
      "Average running time per epoch: 1.67 seconds\n",
      "Total running time: 165.70 seconds\n",
      "\n",
      "Test dataset metrics:\n",
      "Overall Accuracy = 69.4%, Matthews Corr Coef = 0.62\n",
      "\n",
      "\n",
      "Overall accuracy over all folds: 0.6944470544019543\n",
      "              precision    recall  f1-score   support\n",
      "\n",
      "           0      0.721     0.676     0.698      2436\n",
      "           1      0.812     0.713     0.759      1951\n",
      "           2      0.787     0.685     0.733      2308\n",
      "           3      0.630     0.742     0.681      2180\n",
      "           4      0.557     0.653     0.601      1768\n",
      "\n",
      "    accuracy                          0.694     10643\n",
      "   macro avg      0.702     0.694     0.695     10643\n",
      "weighted avg      0.706     0.694     0.697     10643\n",
      "\n",
      "Saved predictions in /home/guijmp/dev/Masters_Project/results/n_press_1/CNN_preds_2023-05-14.npz\n",
      "Saved plot in /home/guijmp/dev/Masters_Project/figures/n_press_1/CNN_training_2023-05-14.pdf\n"
     ]
    }
   ],
   "source": [
    "from peratouch.networks import CNN\n",
    "Xraw, yraw = load_data(path_five_users_main)\n",
    "_ = run_network(CNN, Xraw, yraw, n_ch=1, n_epochs=100, n_folds=10, n_runs=1, plots=False, n_batches=15, random_resampling=False)"
   ]
  },
  {
   "cell_type": "code",
   "execution_count": 4,
   "id": "043d2caf",
   "metadata": {},
   "outputs": [
    {
     "name": "stdout",
     "output_type": "stream",
     "text": [
      "\n",
      "\n",
      "-- New Fold --\n",
      "Train, test and validation arrays normalized to:\n",
      "[1.], [0.9994], [0.9998]\n",
      "Using Device:  cpu , dtype:  torch.float32\n",
      "\n",
      "Raw data shape:  (106425, 1, 32) \n",
      "Labels shape:  (106425,) \n",
      "Shape of test set: (10643, 2, 16) \n",
      "Shape of train set: (91375, 2, 16) \n",
      "Shape of validation set: (14368, 2, 16) \n",
      "Unique labels:  [0 1 2 3 4] \n",
      "Fraction of test labels:  [0.23, 0.18, 0.22, 0.2, 0.17] \n",
      "Fraction of validation labels:  [0.23, 0.18, 0.21, 0.21, 0.17] \n",
      "Fraction of train labels:  [0.2, 0.2, 0.2, 0.2, 0.2] \n",
      "dtype of inputs:  torch.float32\n",
      "\n",
      " Start of training model:\n",
      "\n",
      "End of epoch 1: loss_tr=1.499, loss_val=1.491, train=39.7%, val=42.3%\n",
      "End of epoch 11: loss_tr=1.224, loss_val=1.208, train=47.7%, val=48.8%\n",
      "End of epoch 21: loss_tr=1.129, loss_val=1.117, train=53.5%, val=54.6%\n",
      "End of epoch 31: loss_tr=1.198, loss_val=1.181, train=48.0%, val=49.1%\n",
      "End of epoch 41: loss_tr=1.087, loss_val=1.085, train=55.2%, val=55.8%\n",
      "End of epoch 51: loss_tr=1.075, loss_val=1.077, train=56.2%, val=56.1%\n",
      "End of epoch 61: loss_tr=1.056, loss_val=1.055, train=57.9%, val=58.2%\n",
      "End of epoch 71: loss_tr=1.075, loss_val=1.069, train=56.7%, val=57.5%\n",
      "End of epoch 81: loss_tr=0.995, loss_val=0.995, train=61.0%, val=61.2%\n",
      "End of epoch 91: loss_tr=1.004, loss_val=1.010, train=60.1%, val=60.3%\n",
      "\n",
      "Training Complete!\n",
      "Loading best weights for lowest validation loss=0.977 ...\n",
      "\n",
      "Average running time per epoch: 0.78 seconds\n",
      "Total running time: 77.21 seconds\n",
      "\n",
      "Test dataset metrics:\n",
      "Overall Accuracy = 62.1%, Matthews Corr Coef = 0.53\n",
      "\n",
      "\n",
      "Overall accuracy over all folds: 0.6206896551724138\n",
      "              precision    recall  f1-score   support\n",
      "\n",
      "           0      0.618     0.629     0.623      2436\n",
      "           1      0.729     0.619     0.669      1951\n",
      "           2      0.709     0.606     0.654      2308\n",
      "           3      0.585     0.710     0.641      2180\n",
      "           4      0.487     0.520     0.503      1768\n",
      "\n",
      "    accuracy                          0.621     10643\n",
      "   macro avg      0.626     0.617     0.618     10643\n",
      "weighted avg      0.630     0.621     0.622     10643\n",
      "\n",
      "Saved predictions in /home/guijmp/dev/Masters_Project/results/n_press_1/LSTM_preds_2023-05-14.npz\n",
      "Saved plot in /home/guijmp/dev/Masters_Project/figures/n_press_1/LSTM_training_2023-05-14.pdf\n"
     ]
    }
   ],
   "source": [
    "from peratouch.networks import LSTM \n",
    "Xraw, yraw = load_data(path_five_users_main)\n",
    "_ = run_network(LSTM, Xraw, yraw, input_size=16, hidden_size=16, n_ch=1, n_epochs=100, n_folds=10, n_runs=1, plots=False, n_batches=15, random_resampling=False)"
   ]
  },
  {
   "cell_type": "code",
   "execution_count": null,
   "id": "c0a02e3b",
   "metadata": {},
   "outputs": [],
   "source": [
    "from peratouch.networks import CNN_LSTM \n",
    "Xraw, yraw = load_data(path_five_users_main)\n",
    "_ = run_network(CNN_LSTM, Xraw, yraw, n_ch=1, n_epochs=100, n_folds=10, n_runs=10, plots=False, n_batches=15, random_resampling=False)"
   ]
  },
  {
   "cell_type": "code",
   "execution_count": null,
   "id": "b5cf7466",
   "metadata": {},
   "outputs": [],
   "source": [
    "# # Ran this routine only once for a simple comparison\n",
    "# ## Run comparison of input sizes of LSTM\n",
    "# from peratouch.config import path_analysis_results\n",
    "# from datetime import date\n",
    "# from peratouch.networks import LSTM \n",
    "# import numpy as np\n",
    "\n",
    "# Xraw, yraw = load_data(path_five_users_main)\n",
    "\n",
    "# input_sizes = [1, 2, 4, 8, 16, 32]\n",
    "# results = {}\n",
    "# for in_size in input_sizes:\n",
    "#     print('----- input size = ', in_size, \"\\n\")\n",
    "#     results[str(in_size)] = run_network(LSTM, Xraw, yraw, input_size=in_size, hidden_size=16, n_ch=1, n_epochs=50, n_folds=5, n_runs=5, plots=False, n_batches=15, random_resampling=False)\n",
    "\n",
    "# save_path = str(path_analysis_results/f'input_size_lstm_{date.today()}.npz')\n",
    "# np.savez(save_path, **results)\n",
    "\n",
    "# data = np.load(save_path)\n",
    "# x = [int(k) for k in data]\n",
    "# y = [np.mean(vals==preds) for (vals, preds) in data.values()]\n",
    "# import matplotlib.pyplot as plt \n",
    "# plt.plot(x, y)"
   ]
  }
 ],
 "metadata": {
  "kernelspec": {
   "display_name": "Python 3 (ipykernel)",
   "language": "python",
   "name": "python3"
  },
  "language_info": {
   "codemirror_mode": {
    "name": "ipython",
    "version": 3
   },
   "file_extension": ".py",
   "mimetype": "text/x-python",
   "name": "python",
   "nbconvert_exporter": "python",
   "pygments_lexer": "ipython3",
   "version": "3.10.6"
  }
 },
 "nbformat": 4,
 "nbformat_minor": 5
}
