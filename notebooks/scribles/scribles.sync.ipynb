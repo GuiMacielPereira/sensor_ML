{
 "cells": [
  {
   "cell_type": "code",
   "execution_count": null,
   "id": "5d6d3985",
   "metadata": {},
   "outputs": [],
   "source": [
    "# --------- Cells with some scribles ------------\n",
    "\n",
    "# This function can be used to look at a sliding window \n",
    "# Not better performing than just using a split (i.e. no stride==input_size)\n",
    "def change_input(x, I, S):\n",
    "    \"\"\"I is window size, S is stride\"\"\"\n",
    "\n",
    "    # Make a mask used to transform inputs \n",
    "    bs = x.shape[0]\n",
    "    W = x.shape[-1] \n",
    "    L = int((W - I) / S + 1)\n",
    "\n",
    "    mask = np.full((L, W), False)\n",
    "    mask[0, :I] = True \n",
    "    for i in range(1, L):\n",
    "        mask[i] = np.roll(mask[i-1], shift=S)\n",
    "\n",
    "    result = np.zeros((bs, L, I))\n",
    "    x = x * np.ones((1, L, 1))  # multiply by ones to extend shape\n",
    "    for i in range(bs):\n",
    "        result[i] = x[i][mask].reshape((L, I))\n",
    "    return result"
   ]
  },
  {
   "cell_type": "code",
   "execution_count": null,
   "id": "d862bc97",
   "metadata": {},
   "outputs": [],
   "source": [
    "# Exploring some reshaping\n",
    "import numpy as np\n",
    "x = np.arange(50).reshape((10, 1, 5))\n",
    "print(x)\n",
    "res = []\n",
    "input_size = 5\n",
    "x = x.reshape(x.shape[0], x.shape[1] * x.shape[2])\n",
    "print(x)\n",
    "# for i in range(x.shape[-1] - input_size + 1):\n",
    "#     res.append(x[:, :, i:i+input_size])\n",
    "# x = np.concatenate(res, axis=1)\n",
    "# print(\"Reshaped:\\n\", x)\n",
    "# print(x.shape)"
   ]
  },
  {
   "cell_type": "code",
   "execution_count": 39,
   "id": "1851a03b",
   "metadata": {},
   "outputs": [
    {
     "name": "stdout",
     "output_type": "stream",
     "text": [
      "10\n",
      "(0, 1, 5)\n",
      "(0, 11, 5)\n",
      "[]\n"
     ]
    }
   ],
   "source": [
    "# Looking into grouping triggers of groups of 3\n",
    "import numpy as np\n",
    "n = 3\n",
    "x = np.arange(50).reshape((10, 1, 5))\n",
    "\n",
    "bs, _, s = x.shape\n",
    "assert n<=bs, \"Cannot form groups bigger than the number of triggers available\"\n",
    "x = x[: bs-(bs%n), :, :]\n",
    "print(x.shape)\n",
    "\n",
    "x = x.reshape(-1, n, s)\n",
    "print(x.shape)\n",
    "\n",
    "print(x)"
   ]
  },
  {
   "cell_type": "code",
   "execution_count": 51,
   "id": "1bf7132b",
   "metadata": {},
   "outputs": [
    {
     "name": "stdout",
     "output_type": "stream",
     "text": [
      "[[[ 0  1  2  3  4]]\n",
      "\n",
      " [[ 5  6  7  8  9]]\n",
      "\n",
      " [[10 11 12 13 14]]\n",
      "\n",
      " [[15 16 17 18 19]]\n",
      "\n",
      " [[20 21 22 23 24]]\n",
      "\n",
      " [[25 26 27 28 29]]\n",
      "\n",
      " [[30 31 32 33 34]]\n",
      "\n",
      " [[35 36 37 38 39]]\n",
      "\n",
      " [[40 41 42 43 44]]\n",
      "\n",
      " [[45 46 47 48 49]]]\n",
      "[[[ 0  1  2  3  4]\n",
      "  [ 5  6  7  8  9]\n",
      "  [10 11 12 13 14]]\n",
      "\n",
      " [[ 5  6  7  8  9]\n",
      "  [10 11 12 13 14]\n",
      "  [15 16 17 18 19]]\n",
      "\n",
      " [[10 11 12 13 14]\n",
      "  [15 16 17 18 19]\n",
      "  [20 21 22 23 24]]\n",
      "\n",
      " [[15 16 17 18 19]\n",
      "  [20 21 22 23 24]\n",
      "  [25 26 27 28 29]]\n",
      "\n",
      " [[20 21 22 23 24]\n",
      "  [25 26 27 28 29]\n",
      "  [30 31 32 33 34]]\n",
      "\n",
      " [[25 26 27 28 29]\n",
      "  [30 31 32 33 34]\n",
      "  [35 36 37 38 39]]\n",
      "\n",
      " [[30 31 32 33 34]\n",
      "  [35 36 37 38 39]\n",
      "  [40 41 42 43 44]]]\n",
      "(7, 3, 5)\n"
     ]
    }
   ],
   "source": [
    "import numpy as np\n",
    "x = np.arange(50).reshape((10, 1, 5))\n",
    "n = 3  \n",
    "res = []\n",
    "for i in range(len(x) - n):\n",
    "    res.append(x[i:i+n, 0, :])\n",
    "print(x)\n",
    "x = np.array(res)\n",
    "print(x)\n",
    "print(x.shape)"
   ]
  },
  {
   "cell_type": "code",
   "execution_count": 54,
   "id": "80040851",
   "metadata": {},
   "outputs": [
    {
     "name": "stdout",
     "output_type": "stream",
     "text": [
      "[[[ 0  1  2  3  4]\n",
      "  [ 5  6  7  8  9]]\n",
      "\n",
      " [[10 11 12 13 14]\n",
      "  [15 16 17 18 19]]\n",
      "\n",
      " [[20 21 22 23 24]\n",
      "  [25 26 27 28 29]]\n",
      "\n",
      " [[30 31 32 33 34]\n",
      "  [35 36 37 38 39]]\n",
      "\n",
      " [[40 41 42 43 44]\n",
      "  [45 46 47 48 49]]]\n",
      "[[ 0  1  2  3  4]\n",
      " [ 5  6  7  8  9]\n",
      " [10 11 12 13 14]\n",
      " [15 16 17 18 19]\n",
      " [20 21 22 23 24]\n",
      " [25 26 27 28 29]\n",
      " [30 31 32 33 34]\n",
      " [35 36 37 38 39]\n",
      " [40 41 42 43 44]\n",
      " [45 46 47 48 49]]\n",
      "[[[ 5  6  7  8  9]\n",
      "  [35 36 37 38 39]]\n",
      "\n",
      " [[25 26 27 28 29]\n",
      "  [30 31 32 33 34]]\n",
      "\n",
      " [[45 46 47 48 49]\n",
      "  [40 41 42 43 44]]\n",
      "\n",
      " [[15 16 17 18 19]\n",
      "  [10 11 12 13 14]]\n",
      "\n",
      " [[ 0  1  2  3  4]\n",
      "  [20 21 22 23 24]]]\n"
     ]
    }
   ],
   "source": [
    "import sklearn\n",
    "x = np.arange(50).reshape((5, 2, 5))\n",
    "print(x)\n",
    "batch_size, _, input_size = x.shape\n",
    "x = x.reshape(-1, input_size)\n",
    "print(x)\n",
    "x = sklearn.utils.shuffle(x)\n",
    "x = x.reshape(batch_size, -1, input_size)\n",
    "print(x)"
   ]
  },
  {
   "cell_type": "code",
   "execution_count": 55,
   "id": "13a7b018",
   "metadata": {},
   "outputs": [
    {
     "name": "stdout",
     "output_type": "stream",
     "text": [
      "[[[ 0  1  2  3  4]\n",
      "  [ 5  6  7  8  9]]\n",
      "\n",
      " [[10 11 12 13 14]\n",
      "  [15 16 17 18 19]]\n",
      "\n",
      " [[20 21 22 23 24]\n",
      "  [25 26 27 28 29]]\n",
      "\n",
      " [[30 31 32 33 34]\n",
      "  [35 36 37 38 39]]\n",
      "\n",
      " [[40 41 42 43 44]\n",
      "  [45 46 47 48 49]]]\n",
      "[[[ 0  1  2  3  4]\n",
      "  [ 5  6  7  8  9]]\n",
      "\n",
      " [[10 11 12 13 14]\n",
      "  [15 16 17 18 19]]\n",
      "\n",
      " [[20 21 22 23 24]\n",
      "  [25 26 27 28 29]]\n",
      "\n",
      " [[30 31 32 33 34]\n",
      "  [35 36 37 38 39]]\n",
      "\n",
      " [[40 41 42 43 44]\n",
      "  [45 46 47 48 49]]]\n"
     ]
    }
   ],
   "source": [
    "import numpy as np\n",
    "x = np.arange(50).reshape((5, 2, 5))\n",
    "\n",
    "print(x)\n",
    "shape = x.shape\n",
    "x = x.reshape(shape[0], -1)\n",
    "x = x.reshape(shape)\n",
    "print(x)\n",
    "\n",
    "\n"
   ]
  }
 ],
 "metadata": {
  "kernelspec": {
   "display_name": "Python 3 (ipykernel)",
   "language": "python",
   "name": "python3"
  },
  "language_info": {
   "codemirror_mode": {
    "name": "ipython",
    "version": 3
   },
   "file_extension": ".py",
   "mimetype": "text/x-python",
   "name": "python",
   "nbconvert_exporter": "python",
   "pygments_lexer": "ipython3",
   "version": "3.10.6"
  }
 },
 "nbformat": 4,
 "nbformat_minor": 5
}
